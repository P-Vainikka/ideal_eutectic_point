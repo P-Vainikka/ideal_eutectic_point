{
  "nbformat": 4,
  "nbformat_minor": 0,
  "metadata": {
    "colab": {
      "provenance": []
    },
    "kernelspec": {
      "name": "python3",
      "display_name": "Python 3"
    },
    "language_info": {
      "name": "python"
    }
  },
  "cells": [
    {
      "cell_type": "code",
      "execution_count": null,
      "metadata": {
        "id": "Vh37G-AeJh4v"
      },
      "outputs": [],
      "source": [
        "# Define packages\n",
        "import numpy as np\n",
        "import matplotlib.pyplot as plt\n",
        "import seaborn as sns"
      ]
    },
    {
      "cell_type": "code",
      "source": [
        "# Define constants\n",
        "R = 0.0083145 # kJ/mol*K"
      ],
      "metadata": {
        "id": "5IWAyVC9KIVx"
      },
      "execution_count": null,
      "outputs": []
    },
    {
      "cell_type": "code",
      "source": [
        "# Define function to compute the s-l curve\n",
        "def equation(tma,hfa,tmb,hfb):\n",
        "    molfracs = np.arange(0.00001,1.00001,0.00001)\n",
        "    ln_molfracs = [np.log(x) for x in molfracs]\n",
        "    one_over_t_a = [ ((1/tma)-((x*R)/hfa)) for x in ln_molfracs ]\n",
        "    one_over_t_b = [ ((1/tmb)-((x*R)/hfb)) for x in ln_molfracs ]\n",
        "    t_a = [1/x for x in one_over_t_a]\n",
        "    t_b = [1/x for x in one_over_t_b]\n",
        "    rev_t_b = [x for x in reversed(t_b)]\n",
        "    liquidus = [t_a[i] if t_a[i]>=rev_t_b[i]\\\n",
        "                else rev_t_b[i] for i in range(len(t_a))]\n",
        "    if min(liquidus) in rev_t_b:\n",
        "        eut_mol_frac = molfracs[rev_t_b.index(min(liquidus))]\n",
        "        ref = 'a'\n",
        "    else:\n",
        "        eut_mol_frac = molfracs[t_a.index(min(liquidus))]\n",
        "        ref = 'b'\n",
        "    return(molfracs, liquidus, eut_mol_frac, ref)"
      ],
      "metadata": {
        "id": "x3a90OQMKUeQ"
      },
      "execution_count": null,
      "outputs": []
    },
    {
      "cell_type": "markdown",
      "source": [
        "The cell above contains the 'meat' of this little script. It computes\n",
        "the liquidus temperature based on:\n",
        "\n",
        "\\begin{equation}\n",
        "ln(χ_{i},γ_{i}) = \\frac{Δ_{fus}H_{m,i}}{R}\\bigg(\\frac{1}{T_{m}}-\\frac{1}{T}\\bigg) + \\frac{Δ_{m}C_{p}}{R}\\bigg(\\frac{T_{m}}{T}-ln\\frac{T_{m}}{T}-1\\bigg)\n",
        "\\end{equation}\n",
        "\n",
        "The difference in (molar) heat capacity in liquid and solid phase is ignored, as it is assumed to be *really* small (and typically is for DESs). It is up to the user to know their system, and check whether or not this is true. Furthermore, we assume ideality ($γ=1$). Non-unity values can be easily incorporated, should experimentally (or theoretically!) derived data come available.\n",
        "\n",
        "Thus the equation becomes:\n",
        "\\begin{equation}\n",
        "ln(χ_{i}) = \\frac{Δ_{fus}H_{m,i}}{R}\\bigg(\\frac{1}{T_{m}}-\\frac{1}{T}\\bigg)\n",
        "\\end{equation}\n",
        "\n",
        "which the script solves for $T$, the liquidus temperature.\n",
        "\n",
        "I have incorporated a small (gu)es(s)timator for the eutectic point, but values from it shouldn't be taken as gospel. If you ever wish to publish anything where you would like have the exact ideal eutectic point, come talk to me - more accurate methods are available.\n",
        "\n",
        "\\\\\n",
        "If you have DSC data - or some other experimental data about the actual eutectic point - then you are in luck. You can normalize the ideal and the observed eutectic temperatures (following the work of Bruinhorst and Costa-Gomes) with:\n",
        "\n",
        "\\begin{equation}\n",
        "D_{e} = 100 \\% \\times \\frac{T_{e} - T_{e}^{id}}{T_{e}^{id}}\n",
        "\\end{equation}\n",
        "\n",
        "where $D_{e}$ is the descriptor for *eutectic depth*, $T_{e}^{id}$ is the eutectic temperature of the ideal mixture, and $T_{e}$ is the experimentally observed eutectic temperature.\n",
        "\n",
        "The concept of $D_{e}$ might come in handy if you have an array of possible eutectic - or even *deep* eutectic - solvents which you need to compare. It has some descriptive power with regards to deviation from ideality (a **must** for DESs), and helps compare solvents which might have massively different melting temperatures."
      ],
      "metadata": {
        "id": "DClPqq6ega54"
      }
    },
    {
      "cell_type": "markdown",
      "source": [
        "Here is a small list of values this script could potentially use, with references:\n",
        "\n",
        "\\begin{array}{|c|} \\hline\n",
        "Name & T_{m} (K) & \\Delta_{fus}H_{m} (kJ/mol) & Reference \\\\ \\hline\n",
        "\\hline\n",
        "Au & 1336 & 12.78 & 1 \\\\ \\hline\n",
        "Si & 1685 & 50.66 & 1 \\\\ \\hline\n",
        "ZrF & 1205 & 64.20 & 1 \\\\ \\hline\n",
        "NaF & 1269 & 32.40 & 1 \\\\ \\hline\n",
        "KF & 1131 & 22.65 & 1 \\\\ \\hline\n",
        "LiF & 1121 & 22.30 & 1 \\\\ \\hline\n",
        "Hydroquinone & 445 & 27.23 & 1 \\\\ \\hline\n",
        "Camphor & 452 & 6.82 & 1 \\\\ \\hline\n",
        "Urea & 406 & 14.79 & 1 \\\\ \\hline\n",
        "Choline~chloride & 597 & 4.32~~(7.77) & 1 \\\\ \\hline\n",
        "Ethylene~glycol & 261 & 11.62 & 1 \\\\ \\hline\n",
        "Menthol & 316 & 14.10 & 1 \\\\ \\hline\n",
        "Thymol & 323 & 20.64 & 1 \\\\ \\hline\n",
        "Betaine & 514.65 & 17.98 & 2 \\\\ \\hline\n",
        "Levulinic~acid & 306.2 & 9.22 & 3 \\\\ \\hline\n",
        "Decanoic~acid & 304.4 & 27.990 & 3 \\\\ \\hline\n",
        "Salisylic~acid & 432.5 & 23.05 & 4 \\\\ \\hline\n",
        "Coumarin & 342.2 & 18.63 & 5 \\\\ \\hline\n",
        "Octadecan-1-ol & 331.34 & 65.35 & 6 \\\\ \\hline\n",
        "Octadecanoic~acid & 343.67 & 61.36 & 7 \\\\ \\hline\n",
        "Tetramethylammonium~chloride & 612.87 &  20.49 & 7 \\\\ \\hline\n",
        "Sorbitol & 366.5 & 30.2 & 8 \\\\ \\hline\n",
        "Tetrabutylammonium~chloride & 344.0 &  14.69 & 9 \\\\ \\hline\n",
        "\\end{array}\n",
        "\n",
        "[1] Is there depth to eutectic solvents? https://doi.org/10.1016/j.cogsc.2022.100659 \\\\\n",
        "[2] Understanding the Formation of Deep Eutectic Solvents: Betaine as a Universal Hydrogen Bond Acceptor. https://doi.org/10.1002/cssc.202001331 \\\\\n",
        "[3] NIST Chemistry WebBook \\\\\n",
        "[4] Thermodynamics of cosolvent action: Phenacetin, salicylic acid and probenecid. https://doi.org/10.1002/jps.21497 \\\\\n",
        "[5] Energetics of Coumarin and Chromone. https://doi.org/10.1021/jp9026942 \\\\\n",
        "[6] Binary solid–liquid equilibrium systems containing fatty acids, fatty alcohols and trilaurin by differential scanning calorimetry. https://doi.org/10.1016/j.fluid.2016.04.008 \\\\\n",
        "[7] Measurement and PC-SAFT modeling of solid-liquid equilibrium of deep eutectic solvents of quaternary ammonium chlorides and carboxylic acids. https://doi.org/10.1016/j.fluid.2017.04.007 \\\\\n",
        "[8] Heat Capacities and Entropies of Organic Compounds in the Condensed Phase. Volume III. https://doi.org/10.1063/1.555985 \\\\\n",
        "[9]  The Role of Charge Transfer in the Formation of Type I Deep Eutectic Solvent-Analogous Ionic Liquid Mixtures. https://doi.org/10.3390/molecules24203687 \\\\\n"
      ],
      "metadata": {
        "id": "ZfDsDxFLkXx6"
      }
    },
    {
      "cell_type": "markdown",
      "source": [
        "The usage is simple, and a ready example is given below. You need to input 4 values: Melting temperature of pure $A$, enthalpy of fusion of $A$, melting temperature of pure $B$, and enthalpy of fusion of $B$."
      ],
      "metadata": {
        "id": "Vl5KtANWwPRS"
      }
    },
    {
      "cell_type": "code",
      "source": [
        "# Variables\n",
        "# Change these values to correspond to the mixture of interest.\n",
        "t_a = 406\n",
        "H_a = 14.79\n",
        "t_b = 597\n",
        "H_b = 4.32"
      ],
      "metadata": {
        "id": "Oac8IspLx_Ww"
      },
      "execution_count": null,
      "outputs": []
    },
    {
      "cell_type": "code",
      "source": [
        "# Run the function\n",
        "x,y,eutecticpoint,ref = equation(t_a,H_a,t_b,H_b)\n",
        "\n",
        "# Get a nicer print out for the eutectic composition\n",
        "if ref == 'a':\n",
        "  print(\"Eutectic point is at x(a) = \",round(eutecticpoint,5))\n",
        "else:\n",
        "  print(\"Eutectic point is at x(b) = \",round(eutecticpoint,5))"
      ],
      "metadata": {
        "colab": {
          "base_uri": "https://localhost:8080/"
        },
        "id": "9wiw6ClY6rLj",
        "outputId": "210c7cc7-b763-449d-e4bc-05bb086b8bd1"
      },
      "execution_count": null,
      "outputs": [
        {
          "output_type": "stream",
          "name": "stdout",
          "text": [
            "Eutectic point is at x(b) =  0.46805\n"
          ]
        }
      ]
    },
    {
      "cell_type": "code",
      "source": [
        "# Make a figure\n",
        "fig,ax = plt.subplots(figsize=(7.5,4.0))\n",
        "plt.style.use('seaborn-v0_8-white')\n",
        "plt.xlim(0.0,1.0)\n",
        "ax.tick_params(labelright=True)\n",
        "plt.grid()\n",
        "plt.plot(x,y, linewidth=2.0,alpha=0.85,c='k')\n",
        "plt.axvline(eutecticpoint, ls='--',alpha=0.6,c='orange')\n",
        "plt.ylabel('Temperature (K)')\n",
        "if ref == 'a':\n",
        "  plt.xlabel(r'$\\chi_{A}$')\n",
        "else:\n",
        "  plt.xlabel(r'$\\chi_{B}$')\n",
        "plt.tight_layout()"
      ],
      "metadata": {
        "colab": {
          "base_uri": "https://localhost:8080/",
          "height": 407
        },
        "id": "8OUDBOja6wez",
        "outputId": "f1d87c69-dd58-4b49-b5a4-5fe84143f71d"
      },
      "execution_count": null,
      "outputs": [
        {
          "output_type": "display_data",
          "data": {
            "text/plain": [
              "<Figure size 750x400 with 1 Axes>"
            ],
            "image/png": "[encoded data removed]"
          },
          "metadata": {}
        }
      ]
    },
    {
      "cell_type": "code",
      "source": [
        "# I suppose you might want to extract the numerical data for line above.\n",
        "# You can do so by running this cell!\n",
        "\n",
        "import pandas as pd\n",
        "numerical_data = pd.DataFrame(\n",
        "    {'molfrac(A)':x,\n",
        "     'T(K)':y\n",
        "    })\n",
        "\n",
        "numerical_data.to_csv('numericaldata.csv', index=False)\n"
      ],
      "metadata": {
        "id": "s-8Tzn-069EM"
      },
      "execution_count": null,
      "outputs": []
    }
  ]
}